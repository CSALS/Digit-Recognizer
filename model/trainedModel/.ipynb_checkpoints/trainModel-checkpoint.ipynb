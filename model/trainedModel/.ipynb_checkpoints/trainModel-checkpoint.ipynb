{
 "cells": [
  {
   "cell_type": "code",
   "execution_count": 1,
   "metadata": {},
   "outputs": [],
   "source": [
    "import sys\n",
    "import numpy as np\n",
    "import pickle\n",
    "from sklearn import model_selection, svm, preprocessing\n",
    "from sklearn.neighbors import KNeighborsClassifier\n",
    "from sklearn.ensemble import RandomForestClassifier\n",
    "from sklearn.metrics import accuracy_score,confusion_matrix\n",
    "import joblib \n",
    "from MNIST_Dataset_Loader.mnist_loader import MNIST\n",
    "import matplotlib.pyplot as plt\n",
    "%matplotlib inline\n",
    "from matplotlib import style\n",
    "style.use('ggplot')"
   ]
  },
  {
   "cell_type": "code",
   "execution_count": 2,
   "metadata": {},
   "outputs": [
    {
     "name": "stdout",
     "output_type": "stream",
     "text": [
      "\n",
      "Loading MNIST Data...\n",
      "\n",
      "Loaded MNIST Data...\n"
     ]
    }
   ],
   "source": [
    "# Load MNIST Data\n",
    "print('\\nLoading MNIST Data...')\n",
    "data = MNIST('./MNIST_Dataset_Loader/dataset/')\n",
    "print('\\nLoaded MNIST Data...')"
   ]
  },
  {
   "cell_type": "code",
   "execution_count": 3,
   "metadata": {},
   "outputs": [
    {
     "name": "stdout",
     "output_type": "stream",
     "text": [
      "\n",
      "Loading Training Data...\n",
      "\n",
      "Loaded Training Data...\n"
     ]
    }
   ],
   "source": [
    "print('\\nLoading Training Data...')\n",
    "img_train, labels_train = data.load_training()\n",
    "train_img = np.array(img_train)\n",
    "train_labels = np.array(labels_train)\n",
    "print('\\nLoaded Training Data...')"
   ]
  },
  {
   "cell_type": "code",
   "execution_count": 4,
   "metadata": {},
   "outputs": [
    {
     "name": "stdout",
     "output_type": "stream",
     "text": [
      "\n",
      "Loading Testing Data...\n",
      "\n",
      "Loaded Testing Data...\n"
     ]
    }
   ],
   "source": [
    "print('\\nLoading Testing Data...')\n",
    "img_test, labels_test = data.load_testing()\n",
    "test_img = np.array(img_test)\n",
    "test_labels = np.array(labels_test)\n",
    "print('\\nLoaded Testing Data...')"
   ]
  },
  {
   "cell_type": "code",
   "execution_count": 5,
   "metadata": {},
   "outputs": [
    {
     "data": {
      "text/plain": [
       "<matplotlib.image.AxesImage at 0x1a45e1220b8>"
      ]
     },
     "execution_count": 5,
     "metadata": {},
     "output_type": "execute_result"
    },
    {
     "data": {
      "image/png": "[encoded data removed]",
      "text/plain": [
       "<Figure size 432x288 with 1 Axes>"
      ]
     },
     "metadata": {
      "needs_background": "light"
     },
     "output_type": "display_data"
    }
   ],
   "source": [
    "plt.imshow(test_img[0].reshape(28,28),cmap='gray')"
   ]
  },
  {
   "cell_type": "code",
   "execution_count": 5,
   "metadata": {},
   "outputs": [],
   "source": [
    "def svmClassifier(train_img, train_labels, test_img, test_labels):\n",
    "    #Features\n",
    "    X = train_img\n",
    "    #Labels\n",
    "    Y = train_labels\n",
    "    #Fitting on Training Data\n",
    "    svmClassifier = svm.SVC(gamma=0.1, kernel='poly')\n",
    "    svmClassifier.fit(X, Y)\n",
    "    #Predicting on Testing Data\n",
    "    test_labels_pred = svmClassifier.predict(test_img)\n",
    "    #Calculating accuracy\n",
    "    acc = accuracy_score(test_labels, test_labels_pred)\n",
    "    #Calculating confusion matrix\n",
    "    conf_mat = confusion_matrix(test_labels, test_labels_pred)\n",
    "    # Save the model as a pickle in a file \n",
    "    joblib.dump(svmClassifier, 'svmClassifier.pickle') \n",
    "    print('Accuracy is \\n', acc)\n",
    "    print('Confusion Matrix is \\n', conf_mat)"
   ]
  },
  {
   "cell_type": "code",
   "execution_count": 6,
   "metadata": {},
   "outputs": [],
   "source": [
    "def knnClassifier(train_img, train_labels, test_img, test_labels):\n",
    "    #Features\n",
    "    X = train_img\n",
    "    #Labels\n",
    "    Y = train_labels\n",
    "    #Fitting on Training Data\n",
    "    knnClassifier = KNeighborsClassifier(n_neighbors=5, algorithm='auto', n_jobs=10)\n",
    "    knnClassifier.fit(X, Y)\n",
    "    #Predicting on Testing Data\n",
    "    test_labels_pred = knnClassifier.predict(test_img)\n",
    "    #Calculating accuracy\n",
    "    acc = accuracy_score(test_labels, test_labels_pred)\n",
    "    #Calculating confusion matrix\n",
    "    conf_mat = confusion_matrix(test_labels, test_labels_pred)\n",
    "    # Save the model as a pickle in a file \n",
    "    joblib.dump(knnClassifier, 'knnClassifier.pickle') \n",
    "    print('Accuracy is \\n', acc)\n",
    "    print('Confusion Matrix is \\n', conf_mat)"
   ]
  },
  {
   "cell_type": "code",
   "execution_count": 7,
   "metadata": {},
   "outputs": [],
   "source": [
    "def rfcClassifier(train_img, train_labels, test_img, test_labels):\n",
    "    #Features\n",
    "    X = train_img\n",
    "    #Labels\n",
    "    Y = train_labels\n",
    "    #Fitting on Training Data\n",
    "    rfcClassifier = RandomForestClassifier(n_estimators=100, n_jobs=10)\n",
    "    rfcClassifier.fit(X, Y)\n",
    "    #Predicting on Testing Data\n",
    "    test_labels_pred = rfcClassifier.predict(test_img)\n",
    "    #Calculating accuracy\n",
    "    acc = accuracy_score(test_labels, test_labels_pred)\n",
    "    #Calculating confusion matrix\n",
    "    conf_mat = confusion_matrix(test_labels, test_labels_pred)\n",
    "    # Save the model as a pickle in a file \n",
    "    joblib.dump(rfcClassifier, 'rfcClassifier.pickle') \n",
    "    print('Accuracy is \\n', acc)\n",
    "    print('Confusion Matrix is \\n', conf_mat)"
   ]
  },
  {
   "cell_type": "code",
   "execution_count": 8,
   "metadata": {},
   "outputs": [
    {
     "name": "stdout",
     "output_type": "stream",
     "text": [
      "Accuracy is \n",
      " 0.9787\n",
      "Confusion Matrix is \n",
      " [[ 972    0    1    1    0    3    1    0    2    0]\n",
      " [   0 1126    2    1    1    0    3    0    2    0]\n",
      " [   8    0 1006    0    2    0    5    8    3    0]\n",
      " [   0    2    1  987    0    6    0    5    6    3]\n",
      " [   2    0    2    0  965    0    3    1    0    9]\n",
      " [   2    0    0   10    1  867    3    1    5    3]\n",
      " [   4    5    1    0    3    6  937    0    2    0]\n",
      " [   0   10    9    2    1    0    0 1000    0    6]\n",
      " [   5    0    1    3    4    4    1    4  950    2]\n",
      " [   3    6    1    5    9    3    1    1    3  977]]\n"
     ]
    }
   ],
   "source": [
    "svmClassifier(train_img, train_labels, test_img, test_labels)"
   ]
  },
  {
   "cell_type": "code",
   "execution_count": 9,
   "metadata": {},
   "outputs": [
    {
     "name": "stdout",
     "output_type": "stream",
     "text": [
      "Accuracy is \n",
      " 0.9688\n",
      "Confusion Matrix is \n",
      " [[ 974    1    1    0    0    1    2    1    0    0]\n",
      " [   0 1133    2    0    0    0    0    0    0    0]\n",
      " [  11    8  991    2    1    0    1   15    3    0]\n",
      " [   0    3    3  976    1   13    1    6    3    4]\n",
      " [   3    7    0    0  944    0    4    2    1   21]\n",
      " [   5    0    0   12    2  862    4    1    2    4]\n",
      " [   5    3    0    0    3    2  945    0    0    0]\n",
      " [   0   22    4    0    3    0    0  988    0   11]\n",
      " [   8    3    5   13    6   12    5    5  913    4]\n",
      " [   5    7    3    9    7    3    1   10    2  962]]\n"
     ]
    }
   ],
   "source": [
    "knnClassifier(train_img, train_labels, test_img, test_labels)"
   ]
  },
  {
   "cell_type": "code",
   "execution_count": 10,
   "metadata": {},
   "outputs": [
    {
     "name": "stdout",
     "output_type": "stream",
     "text": [
      "Accuracy is \n",
      " 0.9699\n",
      "Confusion Matrix is \n",
      " [[ 969    0    1    0    0    3    4    1    2    0]\n",
      " [   0 1124    3    2    0    2    2    1    1    0]\n",
      " [   6    0  997    7    4    0    3    9    6    0]\n",
      " [   1    0    9  973    0    6    0    9    9    3]\n",
      " [   1    0    1    0  954    0    5    0    2   19]\n",
      " [   2    0    1   10    2  861    5    2    5    4]\n",
      " [   5    3    1    0    4    4  939    0    2    0]\n",
      " [   1    3   21    0    0    0    0  991    1   11]\n",
      " [   4    0    6    7    4    7    3    4  930    9]\n",
      " [   5    5    3    9   14    4    1    2    5  961]]\n"
     ]
    }
   ],
   "source": [
    "rfcClassifier(train_img, train_labels, test_img, test_labels)"
   ]
  },
  {
   "cell_type": "code",
   "execution_count": null,
   "metadata": {},
   "outputs": [],
   "source": []
  }
 ],
 "metadata": {
  "kernelspec": {
   "display_name": "Python 3",
   "language": "python",
   "name": "python3"
  },
  "language_info": {
   "codemirror_mode": {
    "name": "ipython",
    "version": 3
   },
   "file_extension": ".py",
   "mimetype": "text/x-python",
   "name": "python",
   "nbconvert_exporter": "python",
   "pygments_lexer": "ipython3",
   "version": "3.7.3"
  },
  "varInspector": {
   "cols": {
    "lenName": 16,
    "lenType": 16,
    "lenVar": 40
   },
   "kernels_config": {
    "python": {
     "delete_cmd_postfix": "",
     "delete_cmd_prefix": "del ",
     "library": "var_list.py",
     "varRefreshCmd": "print(var_dic_list())"
    },
    "r": {
     "delete_cmd_postfix": ") ",
     "delete_cmd_prefix": "rm(",
     "library": "var_list.r",
     "varRefreshCmd": "cat(var_dic_list()) "
    }
   },
   "types_to_exclude": [
    "module",
    "function",
    "builtin_function_or_method",
    "instance",
    "_Feature"
   ],
   "window_display": false
  }
 },
 "nbformat": 4,
 "nbformat_minor": 2
}
