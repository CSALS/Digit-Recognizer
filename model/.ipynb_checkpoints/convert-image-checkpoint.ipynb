{
 "cells": [
  {
   "cell_type": "code",
   "execution_count": 1,
   "metadata": {},
   "outputs": [],
   "source": [
    "import numpy as np\n",
    "from PIL import Image\n",
    "import base64\n",
    "import io\n",
    "import matplotlib.pyplot as plt\n",
    "%matplotlib inline\n",
    "from matplotlib import style\n",
    "style.use('ggplot')\n",
    "import pickle\n",
    "import joblib\n",
    "import statistics"
   ]
  },
  {
   "cell_type": "code",
   "execution_count": 2,
   "metadata": {},
   "outputs": [],
   "source": [
    "def convert(data):\n",
    "    data=base64.decodebytes(bytes((data[22:]),'utf-8'))\n",
    "    image = Image.open(io.BytesIO(data))\n",
    "    #converting the image to greyscale\n",
    "    image=image.convert('L')\n",
    "    #resizing with smoothing (ANTIALIAS)\n",
    "    image=image.resize((28,28),Image.ANTIALIAS)\n",
    "    #converting the image to array\n",
    "    image = np.asarray(image)\n",
    "    plt.imshow(image,cmap='gray')\n",
    "    plt.show()\n",
    "    return image.flatten()"
   ]
  },
  {
   "cell_type": "code",
   "execution_count": 3,
   "metadata": {},
   "outputs": [],
   "source": [
    "def myPrediction(digit, classifier):\n",
    "    testImage = []\n",
    "    testImage.append(digit)\n",
    "    testImage = np.asarray(testImage)\n",
    "    return classifier.predict(testImage)"
   ]
  },
  {
   "cell_type": "code",
   "execution_count": 4,
   "metadata": {},
   "outputs": [],
   "source": [
    "#Loading the saved trained models"
   ]
  },
  {
   "cell_type": "code",
   "execution_count": 5,
   "metadata": {},
   "outputs": [],
   "source": [
    "svmClassifier = joblib.load('trainedModel/svmClassifier.pickle')\n",
    "knnClassifier = joblib.load('trainedModel/knnClassifier.pickle')\n",
    "rfcClassifier = joblib.load('trainedModel/rfcClassifier.pickle')"
   ]
  },
  {
   "cell_type": "code",
   "execution_count": 8,
   "metadata": {},
   "outputs": [],
   "source": [
    "def predict(imageURL):\n",
    "    digit = convert(imageURL)\n",
    "    prediction = []\n",
    "    prediction.append(myPrediction(digit, svmClassifier)[0])\n",
    "    prediction.append(myPrediction(digit, knnClassifier)[0])\n",
    "    prediction.append(myPrediction(digit, rfcClassifier)[0])\n",
    "    return (statistics.mode(prediction))"
   ]
  },
  {
   "cell_type": "code",
   "execution_count": 9,
   "metadata": {},
   "outputs": [
    {
     "data": {
      "image/png": "[encoded data removed]",
      "text/plain": [
       "<Figure size 432x288 with 1 Axes>"
      ]
     },
     "metadata": {
      "needs_background": "light"
     },
     "output_type": "display_data"
    },
    {
     "data": {
      "text/plain": [
       "2"
      ]
     },
     "execution_count": 9,
     "metadata": {},
     "output_type": "execute_result"
    }
   ],
   "source": [
    "predict(\"data:image/png;base64,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\")"
   ]
  },
  {
   "cell_type": "code",
   "execution_count": null,
   "metadata": {},
   "outputs": [],
   "source": []
  }
 ],
 "metadata": {
  "kernelspec": {
   "display_name": "Python 3",
   "language": "python",
   "name": "python3"
  },
  "language_info": {
   "codemirror_mode": {
    "name": "ipython",
    "version": 3
   },
   "file_extension": ".py",
   "mimetype": "text/x-python",
   "name": "python",
   "nbconvert_exporter": "python",
   "pygments_lexer": "ipython3",
   "version": "3.7.3"
  },
  "varInspector": {
   "cols": {
    "lenName": 16,
    "lenType": 16,
    "lenVar": 40
   },
   "kernels_config": {
    "python": {
     "delete_cmd_postfix": "",
     "delete_cmd_prefix": "del ",
     "library": "var_list.py",
     "varRefreshCmd": "print(var_dic_list())"
    },
    "r": {
     "delete_cmd_postfix": ") ",
     "delete_cmd_prefix": "rm(",
     "library": "var_list.r",
     "varRefreshCmd": "cat(var_dic_list()) "
    }
   },
   "types_to_exclude": [
    "module",
    "function",
    "builtin_function_or_method",
    "instance",
    "_Feature"
   ],
   "window_display": false
  }
 },
 "nbformat": 4,
 "nbformat_minor": 2
}
