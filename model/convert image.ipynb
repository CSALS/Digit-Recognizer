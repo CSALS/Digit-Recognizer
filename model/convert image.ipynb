{
 "cells": [
  {
   "cell_type": "code",
   "execution_count": 25,
   "metadata": {},
   "outputs": [],
   "source": [
    "import numpy as np\n",
    "from PIL import Image\n",
    "import base64\n",
    "import io\n",
    "import matplotlib.pyplot as plt\n",
    "%matplotlib inline\n",
    "from matplotlib import style\n",
    "style.use('ggplot')\n",
    "import pickle\n",
    "import joblib\n",
    "import statistics"
   ]
  },
  {
   "cell_type": "code",
   "execution_count": 2,
   "metadata": {},
   "outputs": [],
   "source": [
    "def convert(data):\n",
    "    data=base64.decodebytes(bytes((data[22:]),'utf-8'))\n",
    "    image = Image.open(io.BytesIO(data))\n",
    "    #converting the image to greyscale\n",
    "    image=image.convert('L')\n",
    "    #resizing with smoothing (ANTIALIAS)\n",
    "    image=image.resize((28,28),Image.ANTIALIAS)\n",
    "    #converting the image to array\n",
    "    image = np.asarray(image)\n",
    "    plt.imshow(image,cmap='gray')\n",
    "    plt.show()\n",
    "    return image.flatten()"
   ]
  },
  {
   "cell_type": "code",
   "execution_count": 3,
   "metadata": {},
   "outputs": [],
   "source": [
    "def myPrediction(digit, classifier):\n",
    "    testImage = []\n",
    "    testImage.append(digit)\n",
    "    testImage = np.asarray(testImage)\n",
    "    return classifier.predict(testImage)"
   ]
  },
  {
   "cell_type": "code",
   "execution_count": 4,
   "metadata": {},
   "outputs": [],
   "source": [
    "#Loading the saved trained models"
   ]
  },
  {
   "cell_type": "code",
   "execution_count": 20,
   "metadata": {},
   "outputs": [],
   "source": [
    "svmClassifier = joblib.load('trainedModel/svmClassifier.pickle')\n",
    "knnClassifier = joblib.load('trainedModel/knnClassifier.pickle')\n",
    "rfcClassifier = joblib.load('trainedModel/rfcClassifier.pickle')"
   ]
  },
  {
   "cell_type": "code",
   "execution_count": 42,
   "metadata": {},
   "outputs": [],
   "source": [
    "def predict(imageURL):\n",
    "    digit = convert(imageURL)\n",
    "    prediction = []\n",
    "    prediction.append(myPrediction(digit, svmClassifier)[0])\n",
    "    prediction.append(myPrediction(digit, knnClassifier)[0])\n",
    "    prediction.append(myPrediction(digit, rfcClassifier)[0])\n",
    "    return (mode(prediction))"
   ]
  }
 ],
 "metadata": {
  "kernelspec": {
   "display_name": "Python 3",
   "language": "python",
   "name": "python3"
  },
  "language_info": {
   "codemirror_mode": {
    "name": "ipython",
    "version": 3
   },
   "file_extension": ".py",
   "mimetype": "text/x-python",
   "name": "python",
   "nbconvert_exporter": "python",
   "pygments_lexer": "ipython3",
   "version": "3.7.3"
  },
  "varInspector": {
   "cols": {
    "lenName": 16,
    "lenType": 16,
    "lenVar": 40
   },
   "kernels_config": {
    "python": {
     "delete_cmd_postfix": "",
     "delete_cmd_prefix": "del ",
     "library": "var_list.py",
     "varRefreshCmd": "print(var_dic_list())"
    },
    "r": {
     "delete_cmd_postfix": ") ",
     "delete_cmd_prefix": "rm(",
     "library": "var_list.r",
     "varRefreshCmd": "cat(var_dic_list()) "
    }
   },
   "types_to_exclude": [
    "module",
    "function",
    "builtin_function_or_method",
    "instance",
    "_Feature"
   ],
   "window_display": false
  }
 },
 "nbformat": 4,
 "nbformat_minor": 2
}
